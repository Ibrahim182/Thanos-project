{
 "cells": [
  {
   "cell_type": "code",
   "execution_count": 1,
   "metadata": {},
   "outputs": [],
   "source": [
    "# import library\n",
    "import os\n",
    "import random"
   ]
  },
  {
   "cell_type": "markdown",
   "metadata": {},
   "source": [
    "# function to return list of images"
   ]
  },
  {
   "cell_type": "code",
   "execution_count": 2,
   "metadata": {},
   "outputs": [],
   "source": [
    "def list_of_image(f):\n",
    "    print(\"\")\n",
    "    lis = os.listdir(f)\n",
    "    return lis"
   ]
  },
  {
   "cell_type": "markdown",
   "metadata": {},
   "source": [
    "# function to kill half of population and print each image \n",
    "# Use set() in this code"
   ]
  },
  {
   "cell_type": "code",
   "execution_count": 3,
   "metadata": {},
   "outputs": [],
   "source": [
    "def kill(f):\n",
    "    # take the images in v\n",
    "    v = os.listdir(f)\n",
    "    \n",
    "    # make f in set to be unorderd\n",
    "    files = set(v)\n",
    "    \n",
    "    # loop to get the count of file in folder\n",
    "    count = 0\n",
    "    for i in v:\n",
    "        count += 1\n",
    "        \n",
    "    # get the half of images\n",
    "    test = count / 2\n",
    "    \n",
    "    # loop to files in folder\n",
    "    res = 0\n",
    "    for j in files:\n",
    "        try:\n",
    "            os.remove(f+j) # remove the file\n",
    "            print(j,\"has been deleted\") # print name of the file\n",
    "            res = res +  1 # variable to count the files that we are removed\n",
    "\n",
    "        except:\n",
    "            pass\n",
    "\n",
    "        else:\n",
    "            if res >= test:\n",
    "                break"
   ]
  },
  {
   "cell_type": "markdown",
   "metadata": {},
   "source": [
    "# function to backup from backup folder to universe"
   ]
  },
  {
   "cell_type": "code",
   "execution_count": 4,
   "metadata": {},
   "outputs": [],
   "source": [
    "def back_up(back, current):\n",
    "    backup = os.listdir(back)\n",
    "    import shutil\n",
    "    for i in backup:\n",
    "        shutil.copy(back+i,current)\n",
    "    print(\"Backup Finished ^_^\\n\")"
   ]
  },
  {
   "cell_type": "markdown",
   "metadata": {},
   "source": [
    "## function to do the input of the user"
   ]
  },
  {
   "cell_type": "code",
   "execution_count": null,
   "metadata": {},
   "outputs": [],
   "source": [
    "def switch(action, name_of_file):\n",
    "    try :\n",
    "        if action == 1:\n",
    "            images = list_of_image(name_of_file)\n",
    "            for i in images:\n",
    "                print(i , end=\"\\t\\t\")\n",
    "            print()\n",
    "            global z\n",
    "            z = 0\n",
    "        elif action == 2:\n",
    "            kill(name_of_file)\n",
    "            z = 0\n",
    "        elif action == 3:\n",
    "            y = 1\n",
    "            while y > 0:\n",
    "                backup_file = input(\"Enter the name of backup file end with /: \")\n",
    "                if backup_file.endswith('/'):\n",
    "                    y = 0\n",
    "                else:\n",
    "                    print(\"please enter valid file\\n\")\n",
    "            try : \n",
    "                back_up(backup_file,name_of_file)\n",
    "            except:\n",
    "                print(\"Enter valid file please\\n\")\n",
    "            z = 0\n",
    "        elif action == 4:\n",
    "            global x\n",
    "            x = 0\n",
    "            print(\"Thanks for using my code ^_^\\n\")\n",
    "            z = 0\n",
    "        else:\n",
    "            print(\"Plz enter valid option ^_^\\n\")\n",
    "    except:\n",
    "        print(\"Enter valid file ^_^\\n\")"
   ]
  },
  {
   "cell_type": "markdown",
   "metadata": {},
   "source": [
    "## user code"
   ]
  },
  {
   "cell_type": "code",
   "execution_count": 11,
   "metadata": {},
   "outputs": [
    {
     "name": "stdout",
     "output_type": "stream",
     "text": [
      "Enter the name of file end with /:universe/\n",
      "Print list of images enter 1\n",
      "Remove the half of images enter 2\n",
      "Back up the image again enter 3\n",
      "Exist enter 4\n",
      "1\n",
      "\n",
      "cover001.png\t\tcover002.png\t\tcover003.png\t\tcover004.png\t\tcover005.png\t\tcover006.png\t\tcover007.png\t\tcover008.png\t\tcover009.png\t\tcover010.png\t\tcover011.png\t\tcover012.png\t\tcover013.png\t\tcover014.png\t\tcover015.png\t\tcover016.png\t\tcover017.png\t\tcover018.png\t\tcover019.png\t\tcover020.png\t\tcover021.png\t\tcover022.png\t\tcover023.png\t\tcover024.png\t\tcover025.png\t\tcover026.png\t\tcover027.png\t\tcover028.png\t\tcover029.png\t\tcover030.png\t\tcover031.png\t\tcover032.png\t\tcover033.png\t\tcover034.png\t\tcover035.png\t\tcover036.png\t\tcover037.png\t\tcover038.png\t\tcover039.png\t\tcover040.png\t\tcover041.png\t\tcover042.png\t\tcover043.png\t\tcover044.png\t\tcover045.png\t\tcover046.png\t\tcover047.png\t\tcover048.png\t\tcover049.png\t\tcover050.png\t\t\n",
      "Print list of images enter 1\n",
      "Remove the half of images enter 2\n",
      "Back up the image again enter 3\n",
      "Exist enter 4\n",
      "3\n",
      "Enter the name of backup file end with /: backu/\n",
      "Enter valid file ^_^\n",
      "Print list of images enter 1\n",
      "Remove the half of images enter 2\n",
      "Back up the image again enter 3\n",
      "Exist enter 4\n",
      "3\n",
      "Enter the name of backup file end with /: backup/\n",
      "Backup Finished ^_^\n",
      "\n",
      "Print list of images enter 1\n",
      "Remove the half of images enter 2\n",
      "Back up the image again enter 3\n",
      "Exist enter 4\n",
      "2\n",
      "cover015.png has been deleted\n",
      "cover008.png has been deleted\n",
      "cover033.png has been deleted\n",
      "cover024.png has been deleted\n",
      "cover004.png has been deleted\n",
      "cover007.png has been deleted\n",
      "cover012.png has been deleted\n",
      "cover039.png has been deleted\n",
      "cover021.png has been deleted\n",
      "cover028.png has been deleted\n",
      "cover043.png has been deleted\n",
      "cover023.png has been deleted\n",
      "cover006.png has been deleted\n",
      "cover017.png has been deleted\n",
      "cover003.png has been deleted\n",
      "cover046.png has been deleted\n",
      "cover047.png has been deleted\n",
      "cover045.png has been deleted\n",
      "cover011.png has been deleted\n",
      "cover013.png has been deleted\n",
      "cover029.png has been deleted\n",
      "cover030.png has been deleted\n",
      "cover035.png has been deleted\n",
      "cover010.png has been deleted\n",
      "cover038.png has been deleted\n",
      "Print list of images enter 1\n",
      "Remove the half of images enter 2\n",
      "Back up the image again enter 3\n",
      "Exist enter 4\n",
      "3\n",
      "Enter the name of backup file end with /: backu\n",
      "please enter valid file\n",
      "\n",
      "Enter the name of backup file end with /: back/\n",
      "Enter valid file ^_^\n",
      "Print list of images enter 1\n",
      "Remove the half of images enter 2\n",
      "Back up the image again enter 3\n",
      "Exist enter 4\n",
      "3\n",
      "Enter the name of backup file end with /: backup/\n",
      "Backup Finished ^_^\n",
      "\n",
      "Print list of images enter 1\n",
      "Remove the half of images enter 2\n",
      "Back up the image again enter 3\n",
      "Exist enter 4\n",
      "4\n",
      "Thanks for using my code ^_^\n"
     ]
    }
   ],
   "source": [
    "y = 1\n",
    "x = 1\n",
    "z = 1\n",
    "while(x > 0):\n",
    "    if z == 1:\n",
    "        y = 1\n",
    "    if z > 0:\n",
    "        while y > 0:\n",
    "            f = input('Enter the name of file end with /:')\n",
    "            if f.endswith('/'):\n",
    "                y = 0\n",
    "            else:\n",
    "                print(\"please enter valid file\\n\")\n",
    "    print(\"Print list of images enter 1\")\n",
    "    print(\"Remove the half of images enter 2\")\n",
    "    print(\"Back up the image again enter 3\")\n",
    "    print(\"Exist enter 4\")\n",
    "    x = int(input())\n",
    "    switch(x, f)"
   ]
  },
  {
   "cell_type": "code",
   "execution_count": null,
   "metadata": {},
   "outputs": [],
   "source": []
  }
 ],
 "metadata": {
  "kernelspec": {
   "display_name": "Python 3",
   "language": "python",
   "name": "python3"
  },
  "language_info": {
   "codemirror_mode": {
    "name": "ipython",
    "version": 3
   },
   "file_extension": ".py",
   "mimetype": "text/x-python",
   "name": "python",
   "nbconvert_exporter": "python",
   "pygments_lexer": "ipython3",
   "version": "3.7.6"
  }
 },
 "nbformat": 4,
 "nbformat_minor": 4
}
